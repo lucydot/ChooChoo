{
 "cells": [
  {
   "cell_type": "markdown",
   "id": "stock-dance",
   "metadata": {},
   "source": [
    "Questions:\n",
    "- How can I create my own functions?\n",
    "\n",
    "Objectives:\n",
    "- Explain and identify the difference between function definition and function call.\n",
    "- Write a function that takes a small, fixed number of arguments and produces a single result.\n",
    "\n",
    "Keypoints:\n",
    "- Break programs down into functions to make them easier to understand.\n",
    "- Define a function using `def` with a name, parameters, and a block of code.\n",
    "- Defining a function does not run it.\n",
    "- Arguments in call are matched to parameters in definition.\n",
    "- Functions may return a result to their caller using `return`."
   ]
  },
  {
   "cell_type": "markdown",
   "id": "decimal-cattle",
   "metadata": {},
   "source": [
    "### Break programs down into functions to make them easier to understand.\n",
    "\n",
    "Human beings can only keep a few items in working memory at a time. We understand larger/more complicated ideas by understanding and combining pieces. Analogies for this include:\n",
    "\n",
    "*   Components in a machine.\n",
    "*   Lemmas when proving theorems.\n",
    "\n",
    "Functions serve the same purpose in programs - they *Encapsulate* complexity so that we can treat it as a single \"thing\". Functions also enables *re-use* - we write a function one time, anduse many times.\n",
    "\n",
    "### Define a function using `def` with a name, parameters, and a block of code.\n",
    "\n",
    "*   Begin the definition of a new function with `def`.\n",
    "*   This is followed by the name of the function.\n",
    "*   Then *parameters* in parentheses.\n",
    "*   Then a colon.\n",
    "*   Then an indented block of code."
   ]
  },
  {
   "cell_type": "code",
   "execution_count": 2,
   "id": "critical-enough",
   "metadata": {},
   "outputs": [],
   "source": [
    "def print_greeting():\n",
    "    print('Hello!')"
   ]
  },
  {
   "cell_type": "markdown",
   "id": "empirical-gambling",
   "metadata": {},
   "source": [
    "### Defining a function does not run it.\n",
    "\n",
    "Defining a function does not run it - We must call the function to execute the code it contains."
   ]
  },
  {
   "cell_type": "code",
   "execution_count": 3,
   "id": "leading-hudson",
   "metadata": {},
   "outputs": [
    {
     "name": "stdout",
     "output_type": "stream",
     "text": [
      "Hello!\n"
     ]
    }
   ],
   "source": [
    "print_greeting()"
   ]
  },
  {
   "cell_type": "markdown",
   "id": "spectacular-humor",
   "metadata": {},
   "source": [
    "## The arguments in call are matched to parameters in definition.\n",
    "\n",
    "Functions are most useful when they can operate on different data. We can specify *parameters* when defining a function."
   ]
  },
  {
   "cell_type": "code",
   "execution_count": 8,
   "id": "acting-beads",
   "metadata": {},
   "outputs": [],
   "source": [
    "def print_date(year, month, day):\n",
    "    joined = str(year) + '/' + str(month) + '/' + str(day)\n",
    "    print(joined)"
   ]
  },
  {
   "cell_type": "markdown",
   "id": "electronic-invention",
   "metadata": {},
   "source": [
    "If we don't name the arguments when we call the function then they are assigned to the parameters in the order they were defined in the function."
   ]
  },
  {
   "cell_type": "code",
   "execution_count": 9,
   "id": "consecutive-smooth",
   "metadata": {},
   "outputs": [
    {
     "name": "stdout",
     "output_type": "stream",
     "text": [
      "1871/3/19\n"
     ]
    }
   ],
   "source": [
    "print_date(1871, 3, 19)"
   ]
  },
  {
   "cell_type": "markdown",
   "id": "alien-niger",
   "metadata": {},
   "source": [
    "Or, we can name the arguments when we call the function, which allows us to\n",
    "specify them in any order:"
   ]
  },
  {
   "cell_type": "code",
   "execution_count": 10,
   "id": "fewer-spending",
   "metadata": {},
   "outputs": [
    {
     "name": "stdout",
     "output_type": "stream",
     "text": [
      "1871/3/19\n"
     ]
    }
   ],
   "source": [
    "print_date(month=3, day=19, year=1871)"
   ]
  },
  {
   "cell_type": "markdown",
   "id": "ethical-accounting",
   "metadata": {},
   "source": [
    "### Functions may return a result to their caller using `return`.\n",
    "\n",
    "Use `return ...` to give a value back to the caller. This may occur anywhere in the function. But functions are easier to understand if `return` occurs:\n",
    "*   At the start to handle special cases.\n",
    "*   At the very end, with a final result."
   ]
  },
  {
   "cell_type": "code",
   "execution_count": 11,
   "id": "lonely-interview",
   "metadata": {},
   "outputs": [],
   "source": [
    "def average(values):\n",
    "    if len(values) == 0:\n",
    "        return None\n",
    "    return sum(values) / len(values)"
   ]
  },
  {
   "cell_type": "code",
   "execution_count": 12,
   "id": "herbal-huntington",
   "metadata": {},
   "outputs": [
    {
     "name": "stdout",
     "output_type": "stream",
     "text": [
      "average of actual values: 2.6666666666666665\n"
     ]
    }
   ],
   "source": [
    "a = average([1, 3, 4])\n",
    "print('average of actual values:', a)"
   ]
  },
  {
   "cell_type": "code",
   "execution_count": 13,
   "id": "organized-dryer",
   "metadata": {},
   "outputs": [
    {
     "name": "stdout",
     "output_type": "stream",
     "text": [
      "average of empty list: None\n"
     ]
    }
   ],
   "source": [
    "print('average of empty list:', average([]))"
   ]
  },
  {
   "cell_type": "markdown",
   "id": "married-passing",
   "metadata": {},
   "source": [
    "Every function returns something - a function that doesn't explicitly `return` a value automatically returns `None`."
   ]
  },
  {
   "cell_type": "code",
   "execution_count": 14,
   "id": "educated-universal",
   "metadata": {},
   "outputs": [
    {
     "name": "stdout",
     "output_type": "stream",
     "text": [
      "1871/3/19\n",
      "result of call is: None\n"
     ]
    }
   ],
   "source": [
    "result = print_date(1871, 3, 19)\n",
    "print('result of call is:', result)"
   ]
  },
  {
   "cell_type": "markdown",
   "id": "industrial-fundamental",
   "metadata": {},
   "source": [
    "---\n",
    "\n",
    "Do [the quick-test](https://nu-cem.github.io/CompPhys/2021/08/02/Writing-Functions-Qs.html).\n",
    "\n",
    "Back to [Python part two](https://nu-cem.github.io/CompPhys/2021/08/02/Python_basics_two.html).\n",
    "\n",
    "---"
   ]
  },
  {
   "cell_type": "code",
   "execution_count": null,
   "id": "determined-capability",
   "metadata": {},
   "outputs": [],
   "source": []
  }
 ],
 "metadata": {
  "kernelspec": {
   "display_name": "Python 3",
   "language": "python",
   "name": "python3"
  },
  "language_info": {
   "codemirror_mode": {
    "name": "ipython",
    "version": 3
   },
   "file_extension": ".py",
   "mimetype": "text/x-python",
   "name": "python",
   "nbconvert_exporter": "python",
   "pygments_lexer": "ipython3",
   "version": "3.8.5"
  }
 },
 "nbformat": 4,
 "nbformat_minor": 5
}
